{
  "cells": [
    {
      "cell_type": "code",
      "execution_count": null,
      "metadata": {
        "colab": {
          "base_uri": "https://localhost:8080/"
        },
        "id": "rN4PA8VHk-8L",
        "outputId": "9a733524-eff5-43c2-c679-eea819ffd118"
      },
      "outputs": [
        {
          "output_type": "stream",
          "name": "stdout",
          "text": [
            "Cloning into 'yolor'...\n",
            "remote: Enumerating objects: 497, done.\u001b[K\n",
            "remote: Total 497 (delta 0), reused 0 (delta 0), pack-reused 497\u001b[K\n",
            "Receiving objects: 100% (497/497), 3.43 MiB | 25.98 MiB/s, done.\n",
            "Resolving deltas: 100% (231/231), done.\n"
          ]
        }
      ],
      "source": [
        "! git clone https://github.com/kostyayatsok/yolor.git"
      ]
    },
    {
      "cell_type": "code",
      "execution_count": null,
      "metadata": {
        "colab": {
          "base_uri": "https://localhost:8080/"
        },
        "id": "bjiJQ5LKlGyN",
        "outputId": "02ae0269-077e-4124-95e9-04b83c6b0ff2"
      },
      "outputs": [
        {
          "output_type": "stream",
          "name": "stdout",
          "text": [
            "/content/yolor\n"
          ]
        }
      ],
      "source": [
        "%cd yolor"
      ]
    },
    {
      "cell_type": "code",
      "execution_count": null,
      "metadata": {
        "id": "Z9yteP_JFjJ-",
        "colab": {
          "base_uri": "https://localhost:8080/"
        },
        "outputId": "fdadad56-83ab-4edb-9f7a-2996ebc6dd41"
      },
      "outputs": [
        {
          "output_type": "stream",
          "name": "stdout",
          "text": [
            "\u001b[K     |████████████████████████████████| 596 kB 5.0 MB/s \n",
            "\u001b[K     |████████████████████████████████| 776.7 MB 4.6 kB/s \n",
            "\u001b[K     |████████████████████████████████| 12.7 MB 23.4 MB/s \n",
            "\u001b[K     |████████████████████████████████| 1.5 MB 49.9 MB/s \n",
            "\u001b[?25h  Building wheel for pycocotools (setup.py) ... \u001b[?25l\u001b[?25hdone\n",
            "\u001b[31mERROR: pip's dependency resolver does not currently take into account all the packages that are installed. This behaviour is the source of the following dependency conflicts.\n",
            "torchtext 0.12.0 requires torch==1.11.0, but you have torch 1.7.0 which is incompatible.\n",
            "torchaudio 0.11.0+cu113 requires torch==1.11.0, but you have torch 1.7.0 which is incompatible.\u001b[0m\n",
            "Cloning into 'mish-cuda'...\n",
            "remote: Enumerating objects: 195, done.\u001b[K\n",
            "remote: Counting objects: 100% (88/88), done.\u001b[K\n",
            "remote: Compressing objects: 100% (75/75), done.\u001b[K\n",
            "remote: Total 195 (delta 7), reused 79 (delta 3), pack-reused 107\u001b[K\n",
            "Receiving objects: 100% (195/195), 208.77 KiB | 6.73 MiB/s, done.\n",
            "Resolving deltas: 100% (56/56), done.\n",
            "/content/yolor/mish-cuda\n",
            "/usr/lib/python3.7/distutils/extension.py:131: UserWarning: Unknown Extension options: 'headers'\n",
            "  warnings.warn(msg)\n",
            "running build\n",
            "running build_py\n",
            "creating build\n",
            "creating build/lib.linux-x86_64-3.7\n",
            "creating build/lib.linux-x86_64-3.7/mish_cuda\n",
            "copying src/mish_cuda/__init__.py -> build/lib.linux-x86_64-3.7/mish_cuda\n",
            "running egg_info\n",
            "creating src/mish_cuda.egg-info\n",
            "writing src/mish_cuda.egg-info/PKG-INFO\n",
            "writing dependency_links to src/mish_cuda.egg-info/dependency_links.txt\n",
            "writing requirements to src/mish_cuda.egg-info/requires.txt\n",
            "writing top-level names to src/mish_cuda.egg-info/top_level.txt\n",
            "writing manifest file 'src/mish_cuda.egg-info/SOURCES.txt'\n",
            "/usr/local/lib/python3.7/dist-packages/torch/utils/cpp_extension.py:339: UserWarning: Attempted to use ninja as the BuildExtension backend but we could not find ninja.. Falling back to using the slow distutils backend.\n",
            "  warnings.warn(msg.format('we could not find ninja.'))\n",
            "adding license file 'LICENSE'\n",
            "writing manifest file 'src/mish_cuda.egg-info/SOURCES.txt'\n",
            "running build_ext\n",
            "building 'mish_cuda._C' extension\n",
            "creating build/temp.linux-x86_64-3.7\n",
            "creating build/temp.linux-x86_64-3.7/csrc\n",
            "creating build/temp.linux-x86_64-3.7/csrc/cpu\n",
            "creating build/temp.linux-x86_64-3.7/csrc/cuda\n",
            "x86_64-linux-gnu-gcc -pthread -Wno-unused-result -Wsign-compare -DNDEBUG -g -fwrapv -O2 -Wall -g -fstack-protector-strong -Wformat -Werror=format-security -g -fwrapv -O2 -g -fstack-protector-strong -Wformat -Werror=format-security -Wdate-time -D_FORTIFY_SOURCE=2 -fPIC -I/usr/local/lib/python3.7/dist-packages/torch/include -I/usr/local/lib/python3.7/dist-packages/torch/include/torch/csrc/api/include -I/usr/local/lib/python3.7/dist-packages/torch/include/TH -I/usr/local/lib/python3.7/dist-packages/torch/include/THC -I/usr/local/cuda/include -I/usr/include/python3.7m -c csrc/cpu/mish_cpu.cpp -o build/temp.linux-x86_64-3.7/csrc/cpu/mish_cpu.o -DTORCH_API_INCLUDE_EXTENSION_H -DTORCH_EXTENSION_NAME=_C -D_GLIBCXX_USE_CXX11_ABI=0 -std=c++14\n",
            "In file included from \u001b[01m\u001b[K/usr/local/lib/python3.7/dist-packages/torch/include/ATen/Parallel.h:149:0\u001b[m\u001b[K,\n",
            "                 from \u001b[01m\u001b[K/usr/local/lib/python3.7/dist-packages/torch/include/ATen/CPUApplyUtils.h:3\u001b[m\u001b[K,\n",
            "                 from \u001b[01m\u001b[Kcsrc/cpu/mish_cpu.cpp:3\u001b[m\u001b[K:\n",
            "\u001b[01m\u001b[K/usr/local/lib/python3.7/dist-packages/torch/include/ATen/ParallelOpenMP.h:84:0:\u001b[m\u001b[K \u001b[01;35m\u001b[Kwarning: \u001b[m\u001b[Kignoring #pragma omp parallel [\u001b[01;35m\u001b[K-Wunknown-pragmas\u001b[m\u001b[K]\n",
            " #pragma omp parallel for if ((end - begin) >= grain_size)\n",
            " \n",
            "x86_64-linux-gnu-gcc -pthread -Wno-unused-result -Wsign-compare -DNDEBUG -g -fwrapv -O2 -Wall -g -fstack-protector-strong -Wformat -Werror=format-security -g -fwrapv -O2 -g -fstack-protector-strong -Wformat -Werror=format-security -Wdate-time -D_FORTIFY_SOURCE=2 -fPIC -I/usr/local/lib/python3.7/dist-packages/torch/include -I/usr/local/lib/python3.7/dist-packages/torch/include/torch/csrc/api/include -I/usr/local/lib/python3.7/dist-packages/torch/include/TH -I/usr/local/lib/python3.7/dist-packages/torch/include/THC -I/usr/local/cuda/include -I/usr/include/python3.7m -c csrc/cuda/mish_cuda.cpp -o build/temp.linux-x86_64-3.7/csrc/cuda/mish_cuda.o -DTORCH_API_INCLUDE_EXTENSION_H -DTORCH_EXTENSION_NAME=_C -D_GLIBCXX_USE_CXX11_ABI=0 -std=c++14\n",
            "In file included from \u001b[01m\u001b[K/usr/local/lib/python3.7/dist-packages/torch/include/ATen/Parallel.h:149:0\u001b[m\u001b[K,\n",
            "                 from \u001b[01m\u001b[K/usr/local/lib/python3.7/dist-packages/torch/include/torch/csrc/api/include/torch/utils.h:3\u001b[m\u001b[K,\n",
            "                 from \u001b[01m\u001b[K/usr/local/lib/python3.7/dist-packages/torch/include/torch/csrc/api/include/torch/nn/cloneable.h:5\u001b[m\u001b[K,\n",
            "                 from \u001b[01m\u001b[K/usr/local/lib/python3.7/dist-packages/torch/include/torch/csrc/api/include/torch/nn.h:3\u001b[m\u001b[K,\n",
            "                 from \u001b[01m\u001b[K/usr/local/lib/python3.7/dist-packages/torch/include/torch/csrc/api/include/torch/all.h:12\u001b[m\u001b[K,\n",
            "                 from \u001b[01m\u001b[K/usr/local/lib/python3.7/dist-packages/torch/include/torch/extension.h:4\u001b[m\u001b[K,\n",
            "                 from \u001b[01m\u001b[Kcsrc/cuda/mish_cuda.cpp:2\u001b[m\u001b[K:\n",
            "\u001b[01m\u001b[K/usr/local/lib/python3.7/dist-packages/torch/include/ATen/ParallelOpenMP.h:84:0:\u001b[m\u001b[K \u001b[01;35m\u001b[Kwarning: \u001b[m\u001b[Kignoring #pragma omp parallel [\u001b[01;35m\u001b[K-Wunknown-pragmas\u001b[m\u001b[K]\n",
            " #pragma omp parallel for if ((end - begin) >= grain_size)\n",
            " \n",
            "/usr/local/cuda/bin/nvcc -I/usr/local/lib/python3.7/dist-packages/torch/include -I/usr/local/lib/python3.7/dist-packages/torch/include/torch/csrc/api/include -I/usr/local/lib/python3.7/dist-packages/torch/include/TH -I/usr/local/lib/python3.7/dist-packages/torch/include/THC -I/usr/local/cuda/include -I/usr/include/python3.7m -c csrc/cuda/mish_kernel.cu -o build/temp.linux-x86_64-3.7/csrc/cuda/mish_kernel.o -D__CUDA_NO_HALF_OPERATORS__ -D__CUDA_NO_HALF_CONVERSIONS__ -D__CUDA_NO_HALF2_OPERATORS__ --expt-relaxed-constexpr --compiler-options '-fPIC' --expt-extended-lambda -DTORCH_API_INCLUDE_EXTENSION_H -DTORCH_EXTENSION_NAME=_C -D_GLIBCXX_USE_CXX11_ABI=0 -gencode=arch=compute_75,code=sm_75 -std=c++14\n",
            "/usr/local/lib/python3.7/dist-packages/torch/include/ATen/core/boxing/impl/boxing.h(100): warning: integer conversion resulted in a change of sign\n",
            "\n",
            "/usr/local/lib/python3.7/dist-packages/torch/include/ATen/core/op_registration/op_whitelist.h(39): warning: integer conversion resulted in a change of sign\n",
            "\n",
            "/usr/local/lib/python3.7/dist-packages/torch/include/ATen/core/boxing/impl/boxing.h(100): warning: integer conversion resulted in a change of sign\n",
            "\n",
            "/usr/local/lib/python3.7/dist-packages/torch/include/ATen/core/op_registration/op_whitelist.h(39): warning: integer conversion resulted in a change of sign\n",
            "\n",
            "x86_64-linux-gnu-g++ -pthread -shared -Wl,-O1 -Wl,-Bsymbolic-functions -Wl,-Bsymbolic-functions -g -fwrapv -O2 -Wl,-Bsymbolic-functions -g -fwrapv -O2 -g -fstack-protector-strong -Wformat -Werror=format-security -Wdate-time -D_FORTIFY_SOURCE=2 build/temp.linux-x86_64-3.7/csrc/cpu/mish_cpu.o build/temp.linux-x86_64-3.7/csrc/cuda/mish_cuda.o build/temp.linux-x86_64-3.7/csrc/cuda/mish_kernel.o -L/usr/local/lib/python3.7/dist-packages/torch/lib -L/usr/local/cuda/lib64 -lc10 -ltorch -ltorch_cpu -ltorch_python -lcudart -lc10_cuda -ltorch_cuda -o build/lib.linux-x86_64-3.7/mish_cuda/_C.cpython-37m-x86_64-linux-gnu.so\n",
            "running install\n",
            "running bdist_egg\n",
            "installing library code to build/bdist.linux-x86_64/egg\n",
            "running install_lib\n",
            "creating build/bdist.linux-x86_64\n",
            "creating build/bdist.linux-x86_64/egg\n",
            "creating build/bdist.linux-x86_64/egg/mish_cuda\n",
            "copying build/lib.linux-x86_64-3.7/mish_cuda/_C.cpython-37m-x86_64-linux-gnu.so -> build/bdist.linux-x86_64/egg/mish_cuda\n",
            "copying build/lib.linux-x86_64-3.7/mish_cuda/__init__.py -> build/bdist.linux-x86_64/egg/mish_cuda\n",
            "byte-compiling build/bdist.linux-x86_64/egg/mish_cuda/__init__.py to __init__.cpython-37.pyc\n",
            "creating stub loader for mish_cuda/_C.cpython-37m-x86_64-linux-gnu.so\n",
            "byte-compiling build/bdist.linux-x86_64/egg/mish_cuda/_C.py to _C.cpython-37.pyc\n",
            "creating build/bdist.linux-x86_64/egg/EGG-INFO\n",
            "copying src/mish_cuda.egg-info/PKG-INFO -> build/bdist.linux-x86_64/egg/EGG-INFO\n",
            "copying src/mish_cuda.egg-info/SOURCES.txt -> build/bdist.linux-x86_64/egg/EGG-INFO\n",
            "copying src/mish_cuda.egg-info/dependency_links.txt -> build/bdist.linux-x86_64/egg/EGG-INFO\n",
            "copying src/mish_cuda.egg-info/not-zip-safe -> build/bdist.linux-x86_64/egg/EGG-INFO\n",
            "copying src/mish_cuda.egg-info/requires.txt -> build/bdist.linux-x86_64/egg/EGG-INFO\n",
            "copying src/mish_cuda.egg-info/top_level.txt -> build/bdist.linux-x86_64/egg/EGG-INFO\n",
            "writing build/bdist.linux-x86_64/egg/EGG-INFO/native_libs.txt\n",
            "creating dist\n",
            "creating 'dist/mish_cuda-0.0.3-py3.7-linux-x86_64.egg' and adding 'build/bdist.linux-x86_64/egg' to it\n",
            "removing 'build/bdist.linux-x86_64/egg' (and everything under it)\n",
            "Processing mish_cuda-0.0.3-py3.7-linux-x86_64.egg\n",
            "creating /usr/local/lib/python3.7/dist-packages/mish_cuda-0.0.3-py3.7-linux-x86_64.egg\n",
            "Extracting mish_cuda-0.0.3-py3.7-linux-x86_64.egg to /usr/local/lib/python3.7/dist-packages\n",
            "Adding mish-cuda 0.0.3 to easy-install.pth file\n",
            "\n",
            "Installed /usr/local/lib/python3.7/dist-packages/mish_cuda-0.0.3-py3.7-linux-x86_64.egg\n",
            "Processing dependencies for mish-cuda==0.0.3\n",
            "Searching for torch==1.7.0\n",
            "Best match: torch 1.7.0\n",
            "Adding torch 1.7.0 to easy-install.pth file\n",
            "Installing convert-caffe2-to-onnx script to /usr/local/bin\n",
            "Installing convert-onnx-to-caffe2 script to /usr/local/bin\n",
            "\n",
            "Using /usr/local/lib/python3.7/dist-packages\n",
            "Searching for numpy==1.21.6\n",
            "Best match: numpy 1.21.6\n",
            "Adding numpy 1.21.6 to easy-install.pth file\n",
            "Installing f2py script to /usr/local/bin\n",
            "Installing f2py3 script to /usr/local/bin\n",
            "Installing f2py3.7 script to /usr/local/bin\n",
            "\n",
            "Using /usr/local/lib/python3.7/dist-packages\n",
            "Searching for future==0.16.0\n",
            "Best match: future 0.16.0\n",
            "Adding future 0.16.0 to easy-install.pth file\n",
            "Installing futurize script to /usr/local/bin\n",
            "Installing pasteurize script to /usr/local/bin\n",
            "\n",
            "Using /usr/local/lib/python3.7/dist-packages\n",
            "Searching for dataclasses==0.6\n",
            "Best match: dataclasses 0.6\n",
            "Adding dataclasses 0.6 to easy-install.pth file\n",
            "\n",
            "Using /usr/local/lib/python3.7/dist-packages\n",
            "Searching for typing-extensions==4.2.0\n",
            "Best match: typing-extensions 4.2.0\n",
            "Adding typing-extensions 4.2.0 to easy-install.pth file\n",
            "\n",
            "Using /usr/local/lib/python3.7/dist-packages\n",
            "Finished processing dependencies for mish-cuda==0.0.3\n",
            "/content/yolor\n",
            "Cloning into 'pytorch_wavelets'...\n",
            "remote: Enumerating objects: 972, done.\u001b[K\n",
            "remote: Counting objects: 100% (136/136), done.\u001b[K\n",
            "remote: Compressing objects: 100% (91/91), done.\u001b[K\n",
            "remote: Total 972 (delta 75), reused 89 (delta 45), pack-reused 836\u001b[K\n",
            "Receiving objects: 100% (972/972), 6.80 MiB | 34.29 MiB/s, done.\n",
            "Resolving deltas: 100% (659/659), done.\n",
            "/content/yolor/pytorch_wavelets\n",
            "Processing /content/yolor/pytorch_wavelets\n",
            "\u001b[33m  DEPRECATION: A future pip version will change local packages to be built in-place without first copying to a temporary directory. We recommend you use --use-feature=in-tree-build to test your packages with this new behavior before it becomes the default.\n",
            "   pip 21.3 will remove support for this functionality. You can find discussion regarding this at https://github.com/pypa/pip/issues/7555.\u001b[0m\n",
            "Requirement already satisfied: numpy in /usr/local/lib/python3.7/dist-packages (from pytorch-wavelets==1.3.0) (1.21.6)\n",
            "Requirement already satisfied: six in /usr/local/lib/python3.7/dist-packages (from pytorch-wavelets==1.3.0) (1.15.0)\n",
            "Requirement already satisfied: torch in /usr/local/lib/python3.7/dist-packages (from pytorch-wavelets==1.3.0) (1.7.0)\n",
            "Requirement already satisfied: future in /usr/local/lib/python3.7/dist-packages (from torch->pytorch-wavelets==1.3.0) (0.16.0)\n",
            "Requirement already satisfied: dataclasses in /usr/local/lib/python3.7/dist-packages (from torch->pytorch-wavelets==1.3.0) (0.6)\n",
            "Requirement already satisfied: typing-extensions in /usr/local/lib/python3.7/dist-packages (from torch->pytorch-wavelets==1.3.0) (4.2.0)\n",
            "Building wheels for collected packages: pytorch-wavelets\n",
            "  Building wheel for pytorch-wavelets (setup.py) ... \u001b[?25l\u001b[?25hdone\n",
            "  Created wheel for pytorch-wavelets: filename=pytorch_wavelets-1.3.0-py3-none-any.whl size=54869 sha256=7f96544c6740e066a8359fb8a562d3b4e0aa13ad387c85453598065e0ba2550a\n",
            "  Stored in directory: /tmp/pip-ephem-wheel-cache-0xlikl1h/wheels/68/d6/0a/629cb6c68e1577155ab73a47758996d9ab26f15ba622561e28\n",
            "Successfully built pytorch-wavelets\n",
            "Installing collected packages: pytorch-wavelets\n",
            "Successfully installed pytorch-wavelets-1.3.0\n",
            "/content/yolor\n"
          ]
        }
      ],
      "source": [
        "!pip install -qr requirements.txt\n",
        "\n",
        "# install mish-cuda if you want to use mish activation\n",
        "# https://github.com/thomasbrandon/mish-cuda\n",
        "# https://github.com/JunnYu/mish-cuda\n",
        "!git clone https://github.com/JunnYu/mish-cuda\n",
        "%cd mish-cuda\n",
        "!python setup.py build install\n",
        "%cd ..\n",
        "\n",
        "# install pytorch_wavelets if you want to use dwt down-sampling module\n",
        "# https://github.com/fbcotter/pytorch_wavelets\n",
        "!git clone https://github.com/fbcotter/pytorch_wavelets\n",
        "%cd pytorch_wavelets\n",
        "!pip install .\n",
        "%cd .."
      ]
    },
    {
      "cell_type": "code",
      "execution_count": null,
      "metadata": {
        "id": "BsFNDGXelIqs",
        "colab": {
          "base_uri": "https://localhost:8080/"
        },
        "outputId": "b4283ab8-4f3b-4dc4-98e7-c92775aff34f"
      },
      "outputs": [
        {
          "output_type": "stream",
          "name": "stdout",
          "text": [
            "Downloading...\n",
            "From: https://drive.google.com/u/1/uc?id=1l6HShvnKgKbyqWdVbAG21X872Uxe9jj2&export=download\n",
            "To: /content/yolor/coco-test-1280.zip\n",
            "100% 13.7M/13.7M [00:00<00:00, 80.4MB/s]\n",
            "rm: cannot remove 'coco-test': No such file or directory\n",
            "Downloading...\n",
            "From: https://drive.google.com/u/1/uc?id=1LwfKiktJQyNHc3ngUiYinlDQ8HhgoPjy&export=download\n",
            "To: /content/yolor/stacked-1280.zip\n",
            "100% 488M/488M [00:04<00:00, 119MB/s]\n",
            "rm: cannot remove 'rummy-data': No such file or directory\n"
          ]
        }
      ],
      "source": [
        "! pip install -q gdown --upgrade --no-cache-dir\n",
        "# ! gdown \"https://drive.google.com/u/1/uc?id=1ltHpH4zhT8DbnXAyr8D1oIvo2vZ0R1n1&export=download\" # coco-test-640\n",
        "! gdown \"https://drive.google.com/u/1/uc?id=1l6HShvnKgKbyqWdVbAG21X872Uxe9jj2&export=download\" # coco-test-1280\n",
        "! rm -r coco-test\n",
        "! unzip -q coco-test-1280.zip && rm coco-test-1280.zip\n",
        "! mv coco-test-1280 coco-test\n",
        "\n",
        "# ! gdown \"https://drive.google.com/u/1/uc?id=1c_I1h35oWN17S0zHKfm--vsX7YudniX8&export=download\" # stacked\n",
        "! gdown \"https://drive.google.com/u/1/uc?id=1LwfKiktJQyNHc3ngUiYinlDQ8HhgoPjy&export=download\" # stacked-1280\n",
        "! unzip -q stacked-1280.zip && rm stacked-1280.zip\n",
        "! rm -r rummy-data\n",
        "! mv stacked-1280 rummy-data"
      ]
    },
    {
      "cell_type": "code",
      "execution_count": null,
      "metadata": {
        "id": "S7AnavoN8aZf",
        "colab": {
          "base_uri": "https://localhost:8080/"
        },
        "outputId": "814ff5f2-bcfc-4081-a6fc-1daf8b036753"
      },
      "outputs": [
        {
          "output_type": "stream",
          "name": "stdout",
          "text": [
            "\u001b[?25l\r\u001b[K     |█                               | 10 kB 31.2 MB/s eta 0:00:01\r\u001b[K     |██                              | 20 kB 14.0 MB/s eta 0:00:01\r\u001b[K     |███                             | 30 kB 19.0 MB/s eta 0:00:01\r\u001b[K     |███▉                            | 40 kB 12.1 MB/s eta 0:00:01\r\u001b[K     |████▉                           | 51 kB 4.3 MB/s eta 0:00:01\r\u001b[K     |█████▉                          | 61 kB 5.1 MB/s eta 0:00:01\r\u001b[K     |██████▊                         | 71 kB 5.9 MB/s eta 0:00:01\r\u001b[K     |███████▊                        | 81 kB 6.3 MB/s eta 0:00:01\r\u001b[K     |████████▊                       | 92 kB 7.0 MB/s eta 0:00:01\r\u001b[K     |█████████▊                      | 102 kB 7.3 MB/s eta 0:00:01\r\u001b[K     |██████████▋                     | 112 kB 7.3 MB/s eta 0:00:01\r\u001b[K     |███████████▋                    | 122 kB 7.3 MB/s eta 0:00:01\r\u001b[K     |████████████▋                   | 133 kB 7.3 MB/s eta 0:00:01\r\u001b[K     |█████████████▌                  | 143 kB 7.3 MB/s eta 0:00:01\r\u001b[K     |██████████████▌                 | 153 kB 7.3 MB/s eta 0:00:01\r\u001b[K     |███████████████▌                | 163 kB 7.3 MB/s eta 0:00:01\r\u001b[K     |████████████████▌               | 174 kB 7.3 MB/s eta 0:00:01\r\u001b[K     |█████████████████▍              | 184 kB 7.3 MB/s eta 0:00:01\r\u001b[K     |██████████████████▍             | 194 kB 7.3 MB/s eta 0:00:01\r\u001b[K     |███████████████████▍            | 204 kB 7.3 MB/s eta 0:00:01\r\u001b[K     |████████████████████▎           | 215 kB 7.3 MB/s eta 0:00:01\r\u001b[K     |█████████████████████▎          | 225 kB 7.3 MB/s eta 0:00:01\r\u001b[K     |██████████████████████▎         | 235 kB 7.3 MB/s eta 0:00:01\r\u001b[K     |███████████████████████▎        | 245 kB 7.3 MB/s eta 0:00:01\r\u001b[K     |████████████████████████▏       | 256 kB 7.3 MB/s eta 0:00:01\r\u001b[K     |█████████████████████████▏      | 266 kB 7.3 MB/s eta 0:00:01\r\u001b[K     |██████████████████████████▏     | 276 kB 7.3 MB/s eta 0:00:01\r\u001b[K     |███████████████████████████     | 286 kB 7.3 MB/s eta 0:00:01\r\u001b[K     |████████████████████████████    | 296 kB 7.3 MB/s eta 0:00:01\r\u001b[K     |█████████████████████████████   | 307 kB 7.3 MB/s eta 0:00:01\r\u001b[K     |██████████████████████████████  | 317 kB 7.3 MB/s eta 0:00:01\r\u001b[K     |███████████████████████████████ | 327 kB 7.3 MB/s eta 0:00:01\r\u001b[K     |████████████████████████████████| 337 kB 7.3 MB/s eta 0:00:01\r\u001b[K     |████████████████████████████████| 338 kB 7.3 MB/s \n",
            "\u001b[?25h"
          ]
        }
      ],
      "source": [
        "! pip -qqq install pylabel"
      ]
    },
    {
      "cell_type": "code",
      "execution_count": null,
      "metadata": {
        "id": "64gX1loAz-Yq",
        "colab": {
          "base_uri": "https://localhost:8080/"
        },
        "outputId": "8b41163e-96cf-44bc-909b-125467985b17"
      },
      "outputs": [
        {
          "output_type": "stream",
          "name": "stdout",
          "text": [
            "Number of images: 32\n",
            "Number of classes: 13\n",
            "Classes:['1', '2', '3', '4', '5', '6', '7', '8', '9', '10', '11', '12', '13']\n",
            "Class counts:\n",
            "8     63\n",
            "4     59\n",
            "3     58\n",
            "9     55\n",
            "13    55\n",
            "10    51\n",
            "12    49\n",
            "11    44\n",
            "6     40\n",
            "7     38\n",
            "1     34\n",
            "2     34\n",
            "5     31\n",
            "Name: cat_name, dtype: int64\n",
            "Path to annotations:\n",
            "coco-test\n"
          ]
        }
      ],
      "source": [
        "from pylabel import importer\n",
        "\n",
        "dataset = importer.ImportCoco(\n",
        "    path=f\"coco-test/_values.coco.json\",\n",
        "    path_to_images=\"coco-test/\"\n",
        ")\n",
        "\n",
        "print(f\"Number of images: {dataset.analyze.num_images}\")\n",
        "print(f\"Number of classes: {dataset.analyze.num_classes}\")\n",
        "print(f\"Classes:{dataset.analyze.classes}\")\n",
        "print(f\"Class counts:\\n{dataset.analyze.class_counts}\")\n",
        "print(f\"Path to annotations:\\n{dataset.path_to_annotations}\")\n",
        "\n",
        "dataset.export.ExportToYoloV5(f\"coco-test-yolo/labels\");"
      ]
    },
    {
      "cell_type": "code",
      "execution_count": null,
      "metadata": {
        "id": "CL0J_Oe3-NqY"
      },
      "outputs": [],
      "source": [
        "! cp -r coco-test/ coco-test-yolo/images"
      ]
    },
    {
      "cell_type": "code",
      "execution_count": null,
      "metadata": {
        "id": "G7yaznfB9SGD",
        "colab": {
          "base_uri": "https://localhost:8080/"
        },
        "outputId": "8ab7ac6f-4a10-4a87-a6bd-b8a708033431"
      },
      "outputs": [
        {
          "output_type": "stream",
          "name": "stdout",
          "text": [
            "Number of images: 2000\n",
            "Number of classes: 14\n",
            "Classes:['1', '2', '3', '4', '5', '6', '7', '8', '9', '10', '11', '12', '13', 'j']\n",
            "Class counts:\n",
            "10    4422\n",
            "5     4366\n",
            "1     4346\n",
            "13    4310\n",
            "7     4298\n",
            "11    4295\n",
            "8     4293\n",
            "3     4291\n",
            "9     4286\n",
            "2     4252\n",
            "12    4246\n",
            "4     4183\n",
            "6     4167\n",
            "j     2172\n",
            "Name: cat_name, dtype: int64\n",
            "Path to annotations:\n",
            "rummy-data/train\n"
          ]
        }
      ],
      "source": [
        "from pylabel import importer\n",
        "\n",
        "dataset = importer.ImportCoco(\n",
        "    path=f\"rummy-data/train/_values.coco.json\",\n",
        "    path_to_images=\"rummy-data/\"\n",
        ")\n",
        "\n",
        "print(f\"Number of images: {dataset.analyze.num_images}\")\n",
        "print(f\"Number of classes: {dataset.analyze.num_classes}\")\n",
        "print(f\"Classes:{dataset.analyze.classes}\")\n",
        "print(f\"Class counts:\\n{dataset.analyze.class_counts}\")\n",
        "print(f\"Path to annotations:\\n{dataset.path_to_annotations}\")\n",
        "\n",
        "dataset.export.ExportToYoloV5(f\"rummy-data-yolo/labels\");"
      ]
    },
    {
      "cell_type": "code",
      "execution_count": null,
      "metadata": {
        "id": "fGfQdIJs94vr"
      },
      "outputs": [],
      "source": [
        "! cp -r rummy-data/train/ rummy-data-yolo/images"
      ]
    },
    {
      "cell_type": "code",
      "execution_count": null,
      "metadata": {
        "id": "QyFwWDxe9Z-n",
        "colab": {
          "base_uri": "https://localhost:8080/"
        },
        "outputId": "157826da-6bc8-4560-d0a5-6a45ff90b9c2"
      },
      "outputs": [
        {
          "output_type": "stream",
          "name": "stdout",
          "text": [
            "Writing data.yaml\n"
          ]
        }
      ],
      "source": [
        "%%writefile data.yaml\n",
        "names: ['empty', '1', '2', '3', '4', '5', '6', '7', '8', '9', '10', '11', '12', '13', 'j']\n",
        "nc: 15\n",
        "path: .\n",
        "train: rummy-data-yolo/\n",
        "val: coco-test-yolo/"
      ]
    },
    {
      "cell_type": "code",
      "execution_count": null,
      "metadata": {
        "id": "gZ2Ns1BNGBe9"
      },
      "outputs": [],
      "source": [
        "# ! python3 train.py \\\n",
        "#           --batch-size 4 \\\n",
        "#           --img 640 640 \\\n",
        "#           --data data.yaml \\\n",
        "#           --weights '' \\\n",
        "#           --name yolor_csp_x \\\n",
        "#           --hyp data/hyp.scratch.640.yaml \\\n",
        "#           --epochs 150 \\\n",
        "#           --device 0 \\\n",
        "#           --cfg cfg/yolor_csp_x.cfg\n",
        "#           # --cfg cfg/yolor_csp_x.cfg \\"
      ]
    },
    {
      "cell_type": "code",
      "execution_count": null,
      "metadata": {
        "id": "TvlFGpAXiFTm",
        "colab": {
          "base_uri": "https://localhost:8080/"
        },
        "outputId": "fae67ab1-02b5-40fd-ca33-e01bf8359646"
      },
      "outputs": [
        {
          "output_type": "stream",
          "name": "stdout",
          "text": [
            "Downloading...\n",
            "From: https://drive.google.com/uc?export=download&id=1UflcHlN5ERPdhahMivQYCbWWw7d2wY7U\n",
            "To: /content/yolor/yolor_w6.pt\n",
            "100% 320M/320M [00:04<00:00, 65.5MB/s]\n"
          ]
        }
      ],
      "source": [
        "# ! gdown \"https://drive.google.com/u/0/uc?id=1L29rfIPNH1n910qQClGftknWpTBgAv6c&export=download\" # yolor_csp_x.pt\n",
        "# ! gdown \"https://drive.google.com/u/0/uc?id=1Tdn3yqpZ79X7R1Ql0zNlNScB1Dv9Fp76&export=download\" # yolor_p6.pt\n",
        "! gdown \"https://drive.google.com/uc?export=download&id=1UflcHlN5ERPdhahMivQYCbWWw7d2wY7U\" # yolor_w6.pt"
      ]
    },
    {
      "cell_type": "code",
      "execution_count": null,
      "metadata": {
        "id": "SMY-gMqMwqvq",
        "colab": {
          "base_uri": "https://localhost:8080/"
        },
        "outputId": "dbe5a578-c065-459b-e583-2958aba062c6"
      },
      "outputs": [
        {
          "output_type": "stream",
          "name": "stdout",
          "text": [
            "\u001b[K     |████████████████████████████████| 1.8 MB 5.0 MB/s \n",
            "\u001b[K     |████████████████████████████████| 144 kB 69.7 MB/s \n",
            "\u001b[K     |████████████████████████████████| 181 kB 59.1 MB/s \n",
            "\u001b[K     |████████████████████████████████| 63 kB 2.2 MB/s \n",
            "\u001b[?25h  Building wheel for pathtools (setup.py) ... \u001b[?25l\u001b[?25hdone\n"
          ]
        },
        {
          "output_type": "stream",
          "name": "stderr",
          "text": [
            "\u001b[34m\u001b[1mwandb\u001b[0m: W&B API key is configured (use `wandb login --relogin` to force relogin)\n",
            "\u001b[34m\u001b[1mwandb\u001b[0m: \u001b[33mWARNING\u001b[0m If you're specifying your api key in code, ensure this code is not shared publicly.\n",
            "\u001b[34m\u001b[1mwandb\u001b[0m: \u001b[33mWARNING\u001b[0m Consider setting the WANDB_API_KEY environment variable, or running `wandb login` from the command line.\n",
            "\u001b[34m\u001b[1mwandb\u001b[0m: Appending key for api.wandb.ai to your netrc file: /root/.netrc\n"
          ]
        },
        {
          "output_type": "execute_result",
          "data": {
            "text/plain": [
              "True"
            ]
          },
          "metadata": {},
          "execution_count": 13
        }
      ],
      "source": [
        "! pip -qqq install wandb\n",
        "import wandb\n",
        "wandb.login(key=\"4e1cecd72aefefd8f13e9e63705f0b072e96167a\")"
      ]
    },
    {
      "cell_type": "code",
      "execution_count": null,
      "metadata": {
        "id": "hvFCIKQywf93"
      },
      "outputs": [],
      "source": [
        "# ! python3 train.py \\\n",
        "#           --batch-size 4 \\\n",
        "#           --img 640 640 \\\n",
        "#           --data data.yaml \\\n",
        "#           --cfg cfg/yolor_csp_x.cfg \\\n",
        "#           --weights 'yolor_csp_x.pt' \\\n",
        "#           --name yolor_csp_x \\\n",
        "#           --hyp data/hyp.scratch.640.yaml \\\n",
        "#           --epochs 150 \\\n",
        "#           --device 0"
      ]
    },
    {
      "cell_type": "code",
      "source": [
        "! python3 train.py \\\n",
        "          --batch-size 4 \\\n",
        "          --img 1280 1280 \\\n",
        "          --data data.yaml \\\n",
        "          --cfg cfg/yolor_w6.cfg \\\n",
        "          --weights 'yolor_w6.pt' \\\n",
        "          --name yolor_w6 \\\n",
        "          --hyp data/hyp.scratch.1280.yaml \\\n",
        "          --epochs 150 \\\n",
        "          --device 0"
      ],
      "metadata": {
        "id": "R1EDC8jekNc2",
        "colab": {
          "base_uri": "https://localhost:8080/"
        },
        "outputId": "b6311bb0-6c52-4e71-9fbb-b9e5e7114827"
      },
      "execution_count": null,
      "outputs": [
        {
          "output_type": "stream",
          "name": "stdout",
          "text": [
            "Using torch 1.7.0 CUDA:0 (Tesla T4, 15109MB)\n",
            "\n",
            "Namespace(adam=False, batch_size=4, bucket='', cache_images=False, cfg='cfg/yolor_w6.cfg', data='data.yaml', device='0', epochs=150, evolve=False, exist_ok=False, global_rank=-1, hyp='data/hyp.scratch.1280.yaml', image_weights=False, img_size=[1280, 1280], local_rank=-1, log_imgs=16, multi_scale=False, name='yolor_w6', noautoanchor=False, nosave=False, notest=False, project='runs/train', rect=False, resume=False, save_dir='runs/train/yolor_w6', single_cls=False, sync_bn=False, total_batch_size=4, weights='yolor_w6.pt', workers=8, world_size=1)\n",
            "Start Tensorboard with \"tensorboard --logdir runs/train\", view at http://localhost:6006/\n",
            "NumExpr defaulting to 2 threads.\n",
            "Hyperparameters {'lr0': 0.01, 'lrf': 0.2, 'momentum': 0.937, 'weight_decay': 0.0005, 'warmup_epochs': 3.0, 'warmup_momentum': 0.8, 'warmup_bias_lr': 0.1, 'box': 0.05, 'cls': 0.5, 'cls_pw': 1.0, 'obj': 1.0, 'obj_pw': 1.0, 'iou_t': 0.2, 'anchor_t': 4.0, 'fl_gamma': 0.0, 'hsv_h': 0.015, 'hsv_s': 0.7, 'hsv_v': 0.4, 'degrees': 0.0, 'translate': 0.5, 'scale': 0.5, 'shear': 0.0, 'perspective': 0.0, 'flipud': 0.0, 'fliplr': 0.5, 'mosaic': 1.0, 'mixup': 0.0}\n",
            "Model Summary: 665 layers, 79873400 parameters, 79873400 gradients, 113.473314200 GFLOPS\n",
            "Transferred 862/862 items from yolor_w6.pt\n",
            "Optimizer groups: 145 .bias, 145 conv.weight, 149 other\n",
            "\u001b[34m\u001b[1mwandb\u001b[0m: Currently logged in as: \u001b[33mkostyayatsok\u001b[0m (use `wandb login --relogin` to force relogin)\n",
            "\u001b[34m\u001b[1mwandb\u001b[0m: Tracking run with wandb version 0.12.15\n",
            "\u001b[34m\u001b[1mwandb\u001b[0m: Run data is saved locally in \u001b[35m\u001b[1m/content/yolor/wandb/run-20220503_123455-1zes11yb\u001b[0m\n",
            "\u001b[34m\u001b[1mwandb\u001b[0m: Run \u001b[1m`wandb offline`\u001b[0m to turn off syncing.\n",
            "\u001b[34m\u001b[1mwandb\u001b[0m: Syncing run \u001b[33myolor_w6\u001b[0m\n",
            "\u001b[34m\u001b[1mwandb\u001b[0m: ⭐️ View project at \u001b[34m\u001b[4mhttps://wandb.ai/kostyayatsok/YOLOR\u001b[0m\n",
            "\u001b[34m\u001b[1mwandb\u001b[0m: 🚀 View run at \u001b[34m\u001b[4mhttps://wandb.ai/kostyayatsok/YOLOR/runs/1zes11yb\u001b[0m\n",
            "Scanning images: 100% 2000/2000 [00:00<00:00, 6727.04it/s]\n",
            "Scanning labels rummy-data-yolo/labels.cache3 (2000 found, 0 missing, 0 empty, 0 duplicate, for 2000 images): 2000it [00:00, 10648.52it/s]\n",
            "Scanning images: 100% 32/32 [00:00<00:00, 1485.38it/s]\n",
            "Scanning labels coco-test-yolo/labels.cache3 (32 found, 0 missing, 0 empty, 0 duplicate, for 32 images): 32it [00:00, 3343.91it/s]\n",
            "Images sizes do not match. This will causes images to be display incorrectly in the UI.\n",
            "Image sizes 1280 train, 1280 test\n",
            "Using 2 dataloader workers\n",
            "Logging results to runs/train/yolor_w6\n",
            "Starting training for 150 epochs...\n",
            "\n",
            "     Epoch   gpu_mem       box       obj       cls     total   targets  img_size\n",
            "     0/149     14.6G   0.03168   0.06887   0.02102    0.1216       195      1280: 100% 500/500 [06:18<00:00,  1.32it/s]\n",
            "\n",
            "     Epoch   gpu_mem       box       obj       cls     total   targets  img_size\n",
            "     1/149     14.6G   0.02447   0.04764   0.01291   0.08503       141      1280: 100% 500/500 [06:03<00:00,  1.38it/s]\n",
            "\n",
            "     Epoch   gpu_mem       box       obj       cls     total   targets  img_size\n",
            "     2/149     14.6G    0.0297   0.05243   0.01135   0.09348       186      1280: 100% 500/500 [06:02<00:00,  1.38it/s]\n",
            "\n",
            "     Epoch   gpu_mem       box       obj       cls     total   targets  img_size\n",
            "     3/149     14.6G    0.0332   0.05577   0.01074   0.09971       123      1280:  42% 210/500 [02:32<03:27,  1.40it/s]\u001b[34m\u001b[1mwandb\u001b[0m: Network error (ReadTimeout), entering retry loop.\n",
            "     3/149     14.6G   0.03088   0.05007  0.009461   0.09041       106      1280: 100% 500/500 [06:01<00:00,  1.38it/s]\n",
            "               Class      Images     Targets           P           R      mAP@.5  mAP@.5:.95: 100% 4/4 [00:06<00:00,  1.54s/it]\n",
            "                 all          32         611       0.315       0.946        0.67       0.457\n",
            "\n",
            "     Epoch   gpu_mem       box       obj       cls     total   targets  img_size\n",
            "     4/149     14.4G   0.02588   0.04217  0.006806   0.07486        75      1280: 100% 500/500 [06:02<00:00,  1.38it/s]\n",
            "               Class      Images     Targets           P           R      mAP@.5  mAP@.5:.95: 100% 4/4 [00:02<00:00,  1.85it/s]\n",
            "                 all          32         611       0.447       0.941       0.799       0.524\n",
            "\n",
            "     Epoch   gpu_mem       box       obj       cls     total   targets  img_size\n",
            "     5/149     14.4G   0.02309   0.04026  0.005755    0.0691        42      1280: 100% 500/500 [06:01<00:00,  1.38it/s]\n",
            "               Class      Images     Targets           P           R      mAP@.5  mAP@.5:.95: 100% 4/4 [00:02<00:00,  1.95it/s]\n",
            "                 all          32         611        0.58       0.908       0.814       0.617\n",
            "\n",
            "     Epoch   gpu_mem       box       obj       cls     total   targets  img_size\n",
            "     6/149     14.4G   0.02224   0.03907  0.005137   0.06645        79      1280: 100% 500/500 [06:01<00:00,  1.38it/s]\n",
            "               Class      Images     Targets           P           R      mAP@.5  mAP@.5:.95: 100% 4/4 [00:02<00:00,  1.95it/s]\n",
            "                 all          32         611       0.618       0.953       0.901       0.726\n",
            "\n",
            "     Epoch   gpu_mem       box       obj       cls     total   targets  img_size\n",
            "     7/149     14.4G   0.02104   0.03711  0.004616   0.06277        72      1280: 100% 500/500 [06:01<00:00,  1.38it/s]\n",
            "               Class      Images     Targets           P           R      mAP@.5  mAP@.5:.95: 100% 4/4 [00:02<00:00,  1.96it/s]\n",
            "                 all          32         611       0.628       0.955       0.909       0.708\n",
            "\n",
            "     Epoch   gpu_mem       box       obj       cls     total   targets  img_size\n",
            "     8/149     14.4G   0.02049   0.03745  0.004333   0.06228       115      1280: 100% 500/500 [06:02<00:00,  1.38it/s]\n",
            "               Class      Images     Targets           P           R      mAP@.5  mAP@.5:.95: 100% 4/4 [00:02<00:00,  1.98it/s]\n",
            "                 all          32         611       0.667       0.951       0.932       0.697\n",
            "\n",
            "     Epoch   gpu_mem       box       obj       cls     total   targets  img_size\n",
            "     9/149     14.4G   0.02021   0.03659  0.004123   0.06093       165      1280: 100% 500/500 [06:01<00:00,  1.38it/s]\n",
            "               Class      Images     Targets           P           R      mAP@.5  mAP@.5:.95: 100% 4/4 [00:01<00:00,  2.00it/s]\n",
            "                 all          32         611       0.677       0.958       0.927       0.722\n",
            "\n",
            "     Epoch   gpu_mem       box       obj       cls     total   targets  img_size\n",
            "    10/149     14.4G   0.01919   0.03582  0.003987     0.059       214      1280: 100% 500/500 [06:01<00:00,  1.38it/s]\n",
            "               Class      Images     Targets           P           R      mAP@.5  mAP@.5:.95: 100% 4/4 [00:01<00:00,  2.04it/s]\n",
            "                 all          32         611       0.744       0.938       0.937       0.701\n",
            "\n",
            "     Epoch   gpu_mem       box       obj       cls     total   targets  img_size\n",
            "    11/149     14.4G   0.01867   0.03346  0.003768    0.0559       206      1280: 100% 500/500 [06:02<00:00,  1.38it/s]\n",
            "               Class      Images     Targets           P           R      mAP@.5  mAP@.5:.95: 100% 4/4 [00:02<00:00,  2.00it/s]\n",
            "                 all          32         611       0.729        0.95       0.943       0.692\n",
            "\n",
            "     Epoch   gpu_mem       box       obj       cls     total   targets  img_size\n",
            "    12/149     14.4G   0.01892    0.0353  0.003642   0.05787        30      1280: 100% 500/500 [06:02<00:00,  1.38it/s]\n",
            "               Class      Images     Targets           P           R      mAP@.5  mAP@.5:.95: 100% 4/4 [00:01<00:00,  2.05it/s]\n",
            "                 all          32         611       0.766       0.929       0.932       0.713\n",
            "\n",
            "     Epoch   gpu_mem       box       obj       cls     total   targets  img_size\n",
            "    13/149     14.4G   0.01855    0.0352  0.003607   0.05735       102      1280: 100% 500/500 [06:02<00:00,  1.38it/s]\n",
            "               Class      Images     Targets           P           R      mAP@.5  mAP@.5:.95: 100% 4/4 [00:01<00:00,  2.00it/s]\n",
            "                 all          32         611       0.781       0.933       0.934       0.703\n",
            "\n",
            "     Epoch   gpu_mem       box       obj       cls     total   targets  img_size\n",
            "    14/149     14.4G   0.01805   0.03574  0.003533   0.05733        50      1280: 100% 500/500 [06:02<00:00,  1.38it/s]\n",
            "               Class      Images     Targets           P           R      mAP@.5  mAP@.5:.95: 100% 4/4 [00:01<00:00,  2.02it/s]\n",
            "                 all          32         611       0.767       0.955       0.947       0.755\n",
            "\n",
            "     Epoch   gpu_mem       box       obj       cls     total   targets  img_size\n",
            "    15/149     14.4G   0.01726    0.0336  0.003307   0.05417        91      1280: 100% 500/500 [06:03<00:00,  1.38it/s]\n",
            "               Class      Images     Targets           P           R      mAP@.5  mAP@.5:.95: 100% 4/4 [00:01<00:00,  2.00it/s]\n",
            "                 all          32         611        0.78        0.95       0.947       0.731\n",
            "\n",
            "     Epoch   gpu_mem       box       obj       cls     total   targets  img_size\n",
            "    16/149     14.4G   0.01787   0.03439  0.003383   0.05565        90      1280: 100% 500/500 [06:08<00:00,  1.36it/s]\n",
            "               Class      Images     Targets           P           R      mAP@.5  mAP@.5:.95: 100% 4/4 [00:02<00:00,  1.97it/s]\n",
            "                 all          32         611       0.758       0.948       0.944       0.702\n",
            "\n",
            "     Epoch   gpu_mem       box       obj       cls     total   targets  img_size\n",
            "    17/149     14.4G    0.0179   0.03363  0.003194   0.05472       108      1280: 100% 500/500 [06:04<00:00,  1.37it/s]\n",
            "               Class      Images     Targets           P           R      mAP@.5  mAP@.5:.95: 100% 4/4 [00:01<00:00,  2.06it/s]\n",
            "                 all          32         611       0.778       0.961       0.963        0.78\n",
            "\n",
            "     Epoch   gpu_mem       box       obj       cls     total   targets  img_size\n",
            "    18/149     14.4G   0.01726   0.03217  0.003147   0.05257       169      1280: 100% 500/500 [06:01<00:00,  1.38it/s]\n",
            "               Class      Images     Targets           P           R      mAP@.5  mAP@.5:.95: 100% 4/4 [00:01<00:00,  2.02it/s]\n",
            "                 all          32         611       0.792       0.961       0.955       0.767\n",
            "\n",
            "     Epoch   gpu_mem       box       obj       cls     total   targets  img_size\n",
            "    19/149     14.4G   0.01692     0.033  0.003035   0.05296       161      1280: 100% 500/500 [06:01<00:00,  1.38it/s]\n",
            "               Class      Images     Targets           P           R      mAP@.5  mAP@.5:.95: 100% 4/4 [00:01<00:00,  2.08it/s]\n",
            "                 all          32         611       0.779       0.947       0.938        0.73\n",
            "\n",
            "     Epoch   gpu_mem       box       obj       cls     total   targets  img_size\n",
            "    20/149     14.4G   0.01705   0.03331  0.003012   0.05336       100      1280: 100% 500/500 [06:01<00:00,  1.38it/s]\n",
            "               Class      Images     Targets           P           R      mAP@.5  mAP@.5:.95: 100% 4/4 [00:01<00:00,  2.07it/s]\n",
            "                 all          32         611       0.797       0.931        0.93       0.705\n",
            "\n",
            "     Epoch   gpu_mem       box       obj       cls     total   targets  img_size\n",
            "    21/149     14.4G   0.01693   0.03258  0.003096   0.05261        73      1280: 100% 500/500 [06:01<00:00,  1.38it/s]\n",
            "               Class      Images     Targets           P           R      mAP@.5  mAP@.5:.95: 100% 4/4 [00:01<00:00,  2.03it/s]\n",
            "                 all          32         611       0.787        0.95       0.951       0.753\n",
            "\n",
            "     Epoch   gpu_mem       box       obj       cls     total   targets  img_size\n",
            "    22/149     14.4G   0.01584   0.03149  0.002967    0.0503        38      1280: 100% 500/500 [06:01<00:00,  1.38it/s]\n",
            "               Class      Images     Targets           P           R      mAP@.5  mAP@.5:.95: 100% 4/4 [00:01<00:00,  2.09it/s]\n",
            "                 all          32         611       0.792       0.862       0.885       0.614\n",
            "\n",
            "     Epoch   gpu_mem       box       obj       cls     total   targets  img_size\n",
            "    23/149     14.4G   0.01671   0.03247  0.002932   0.05212       121      1280: 100% 500/500 [06:00<00:00,  1.39it/s]\n",
            "               Class      Images     Targets           P           R      mAP@.5  mAP@.5:.95: 100% 4/4 [00:01<00:00,  2.09it/s]\n",
            "                 all          32         611       0.781       0.944       0.939       0.729\n",
            "\n",
            "     Epoch   gpu_mem       box       obj       cls     total   targets  img_size\n",
            "    24/149     14.4G   0.01564   0.03095  0.002884   0.04948        61      1280: 100% 500/500 [06:01<00:00,  1.38it/s]\n",
            "               Class      Images     Targets           P           R      mAP@.5  mAP@.5:.95: 100% 4/4 [00:01<00:00,  2.08it/s]\n",
            "                 all          32         611       0.787       0.943       0.946       0.699\n",
            "\n",
            "     Epoch   gpu_mem       box       obj       cls     total   targets  img_size\n",
            "    25/149     14.4G   0.01612   0.03216  0.002813   0.05109       114      1280: 100% 500/500 [06:01<00:00,  1.38it/s]\n",
            "               Class      Images     Targets           P           R      mAP@.5  mAP@.5:.95: 100% 4/4 [00:01<00:00,  2.09it/s]\n",
            "                 all          32         611       0.768       0.911       0.914       0.718\n",
            "\n",
            "     Epoch   gpu_mem       box       obj       cls     total   targets  img_size\n",
            "    26/149     14.4G   0.01554   0.03095  0.002788   0.04928       169      1280: 100% 500/500 [06:01<00:00,  1.38it/s]\n",
            "               Class      Images     Targets           P           R      mAP@.5  mAP@.5:.95: 100% 4/4 [00:01<00:00,  2.07it/s]\n",
            "                 all          32         611       0.787       0.839       0.863       0.648\n",
            "\n",
            "     Epoch   gpu_mem       box       obj       cls     total   targets  img_size\n",
            "    27/149     14.4G   0.01556   0.03154  0.002812   0.04992       169      1280: 100% 500/500 [06:01<00:00,  1.38it/s]\n",
            "               Class      Images     Targets           P           R      mAP@.5  mAP@.5:.95: 100% 4/4 [00:01<00:00,  2.09it/s]\n",
            "                 all          32         611       0.773       0.875       0.887       0.671\n",
            "\n",
            "     Epoch   gpu_mem       box       obj       cls     total   targets  img_size\n",
            "    28/149     14.4G   0.01608   0.03106  0.002802   0.04994        63      1280: 100% 500/500 [06:01<00:00,  1.38it/s]\n",
            "               Class      Images     Targets           P           R      mAP@.5  mAP@.5:.95: 100% 4/4 [00:01<00:00,  2.09it/s]\n",
            "                 all          32         611       0.779       0.858       0.885       0.689\n",
            "\n",
            "     Epoch   gpu_mem       box       obj       cls     total   targets  img_size\n",
            "    29/149     14.4G   0.01561   0.03146  0.002738   0.04981        85      1280: 100% 500/500 [06:01<00:00,  1.38it/s]\n",
            "               Class      Images     Targets           P           R      mAP@.5  mAP@.5:.95: 100% 4/4 [00:01<00:00,  2.06it/s]\n",
            "                 all          32         611       0.789        0.93       0.924       0.696\n",
            "\n",
            "     Epoch   gpu_mem       box       obj       cls     total   targets  img_size\n",
            "    30/149     14.4G   0.01532   0.03118  0.002744   0.04924       165      1280: 100% 500/500 [06:01<00:00,  1.38it/s]\n",
            "               Class      Images     Targets           P           R      mAP@.5  mAP@.5:.95: 100% 4/4 [00:01<00:00,  2.07it/s]\n",
            "                 all          32         611       0.758       0.941       0.938       0.706\n",
            "\n",
            "     Epoch   gpu_mem       box       obj       cls     total   targets  img_size\n",
            "    31/149     14.4G   0.01466   0.03048  0.002724   0.04787       175      1280: 100% 500/500 [06:01<00:00,  1.38it/s]\n",
            "               Class      Images     Targets           P           R      mAP@.5  mAP@.5:.95: 100% 4/4 [00:01<00:00,  2.10it/s]\n",
            "                 all          32         611       0.785       0.941       0.935        0.65\n",
            "\n",
            "     Epoch   gpu_mem       box       obj       cls     total   targets  img_size\n",
            "    32/149     14.4G   0.01502   0.03036   0.00269   0.04806       154      1280: 100% 500/500 [06:01<00:00,  1.38it/s]\n",
            "               Class      Images     Targets           P           R      mAP@.5  mAP@.5:.95: 100% 4/4 [00:01<00:00,  2.09it/s]\n",
            "                 all          32         611       0.734       0.931       0.936       0.723\n",
            "\n",
            "     Epoch   gpu_mem       box       obj       cls     total   targets  img_size\n",
            "    33/149     14.4G   0.01459   0.02987  0.002601   0.04706        73      1280: 100% 500/500 [06:01<00:00,  1.38it/s]\n",
            "               Class      Images     Targets           P           R      mAP@.5  mAP@.5:.95: 100% 4/4 [00:01<00:00,  2.05it/s]\n",
            "                 all          32         611       0.766       0.924       0.933       0.681\n",
            "\n",
            "     Epoch   gpu_mem       box       obj       cls     total   targets  img_size\n",
            "    34/149     14.4G   0.01496   0.03088  0.002649   0.04849        60      1280: 100% 500/500 [06:00<00:00,  1.39it/s]\n",
            "               Class      Images     Targets           P           R      mAP@.5  mAP@.5:.95: 100% 4/4 [00:01<00:00,  2.09it/s]\n",
            "                 all          32         611       0.746       0.939       0.936       0.709\n",
            "\n",
            "     Epoch   gpu_mem       box       obj       cls     total   targets  img_size\n",
            "    35/149     14.4G   0.01451   0.03033  0.002559    0.0474       104      1280: 100% 500/500 [06:00<00:00,  1.39it/s]\n",
            "               Class      Images     Targets           P           R      mAP@.5  mAP@.5:.95: 100% 4/4 [00:01<00:00,  2.09it/s]\n",
            "                 all          32         611       0.782       0.935       0.939       0.694\n",
            "\n",
            "     Epoch   gpu_mem       box       obj       cls     total   targets  img_size\n",
            "    36/149     14.4G   0.01473   0.03038   0.00255   0.04765        84      1280: 100% 500/500 [06:01<00:00,  1.38it/s]\n",
            "               Class      Images     Targets           P           R      mAP@.5  mAP@.5:.95: 100% 4/4 [00:01<00:00,  2.07it/s]\n",
            "                 all          32         611       0.797        0.81       0.853       0.623\n",
            "\n",
            "     Epoch   gpu_mem       box       obj       cls     total   targets  img_size\n",
            "    37/149     14.4G    0.0146   0.02942  0.002594   0.04661       142      1280: 100% 500/500 [06:01<00:00,  1.38it/s]\n",
            "               Class      Images     Targets           P           R      mAP@.5  mAP@.5:.95: 100% 4/4 [00:01<00:00,  2.09it/s]\n",
            "                 all          32         611       0.821       0.866       0.892       0.699\n",
            "\n",
            "     Epoch   gpu_mem       box       obj       cls     total   targets  img_size\n",
            "    38/149     14.4G   0.01349   0.02944  0.002547   0.04547       158      1280: 100% 500/500 [06:00<00:00,  1.39it/s]\n",
            "               Class      Images     Targets           P           R      mAP@.5  mAP@.5:.95: 100% 4/4 [00:01<00:00,  2.09it/s]\n",
            "                 all          32         611       0.788       0.932       0.935       0.737\n",
            "\n",
            "     Epoch   gpu_mem       box       obj       cls     total   targets  img_size\n",
            "    39/149     14.4G   0.01415   0.03003  0.002554   0.04674       129      1280: 100% 500/500 [06:01<00:00,  1.38it/s]\n",
            "               Class      Images     Targets           P           R      mAP@.5  mAP@.5:.95: 100% 4/4 [00:01<00:00,  2.07it/s]\n",
            "                 all          32         611       0.773       0.918       0.926       0.678\n",
            "\n",
            "     Epoch   gpu_mem       box       obj       cls     total   targets  img_size\n",
            "    40/149     14.4G   0.01388   0.02917  0.002478   0.04553       177      1280: 100% 500/500 [06:01<00:00,  1.38it/s]\n",
            "               Class      Images     Targets           P           R      mAP@.5  mAP@.5:.95: 100% 4/4 [00:01<00:00,  2.05it/s]\n",
            "                 all          32         611       0.784       0.893       0.902       0.684\n",
            "\n",
            "     Epoch   gpu_mem       box       obj       cls     total   targets  img_size\n",
            "    41/149     14.4G   0.01337   0.02811  0.002508   0.04399       168      1280: 100% 500/500 [06:01<00:00,  1.38it/s]\n",
            "               Class      Images     Targets           P           R      mAP@.5  mAP@.5:.95: 100% 4/4 [00:01<00:00,  2.09it/s]\n",
            "                 all          32         611       0.811       0.904        0.92        0.72\n",
            "\n",
            "     Epoch   gpu_mem       box       obj       cls     total   targets  img_size\n",
            "    42/149     14.4G   0.01384   0.03002  0.002488   0.04636        62      1280: 100% 500/500 [06:01<00:00,  1.38it/s]\n",
            "               Class      Images     Targets           P           R      mAP@.5  mAP@.5:.95: 100% 4/4 [00:01<00:00,  2.08it/s]\n",
            "                 all          32         611       0.756       0.912       0.907       0.683\n",
            "\n",
            "     Epoch   gpu_mem       box       obj       cls     total   targets  img_size\n",
            "    43/149     14.4G   0.01374   0.02904  0.002609   0.04539       158      1280: 100% 500/500 [06:01<00:00,  1.38it/s]\n",
            "               Class      Images     Targets           P           R      mAP@.5  mAP@.5:.95: 100% 4/4 [00:01<00:00,  2.08it/s]\n",
            "                 all          32         611        0.79       0.936       0.937       0.711\n",
            "\n",
            "     Epoch   gpu_mem       box       obj       cls     total   targets  img_size\n",
            "    44/149     14.4G   0.01392   0.02848   0.00256   0.04497       138      1280: 100% 500/500 [06:01<00:00,  1.38it/s]\n",
            "               Class      Images     Targets           P           R      mAP@.5  mAP@.5:.95: 100% 4/4 [00:01<00:00,  2.06it/s]\n",
            "                 all          32         611       0.792       0.933       0.933       0.601\n",
            "\n",
            "     Epoch   gpu_mem       box       obj       cls     total   targets  img_size\n",
            "    45/149     14.4G   0.01363   0.02845  0.002517   0.04459       119      1280: 100% 500/500 [06:01<00:00,  1.38it/s]\n",
            "               Class      Images     Targets           P           R      mAP@.5  mAP@.5:.95: 100% 4/4 [00:01<00:00,  2.07it/s]\n",
            "                 all          32         611       0.754       0.921       0.919       0.654\n",
            "\n",
            "     Epoch   gpu_mem       box       obj       cls     total   targets  img_size\n",
            "    46/149     14.4G   0.01302    0.0288  0.002453   0.04427        38      1280: 100% 500/500 [06:01<00:00,  1.38it/s]\n",
            "               Class      Images     Targets           P           R      mAP@.5  mAP@.5:.95: 100% 4/4 [00:01<00:00,  2.08it/s]\n",
            "                 all          32         611       0.797       0.924       0.927       0.659\n",
            "\n",
            "     Epoch   gpu_mem       box       obj       cls     total   targets  img_size\n",
            "    47/149     14.4G   0.01285   0.02747  0.002379    0.0427       132      1280: 100% 500/500 [06:00<00:00,  1.39it/s]\n",
            "               Class      Images     Targets           P           R      mAP@.5  mAP@.5:.95: 100% 4/4 [00:01<00:00,  2.10it/s]\n",
            "                 all          32         611       0.796       0.949       0.939       0.708\n",
            "\n",
            "     Epoch   gpu_mem       box       obj       cls     total   targets  img_size\n",
            "    48/149     14.4G   0.01366   0.02924  0.002489   0.04539       105      1280: 100% 500/500 [06:00<00:00,  1.39it/s]\n",
            "               Class      Images     Targets           P           R      mAP@.5  mAP@.5:.95: 100% 4/4 [00:01<00:00,  2.09it/s]\n",
            "                 all          32         611        0.81        0.92       0.915         0.7\n",
            "\n",
            "     Epoch   gpu_mem       box       obj       cls     total   targets  img_size\n",
            "    49/149     14.4G   0.01313   0.02848  0.002371   0.04398        83      1280: 100% 500/500 [06:00<00:00,  1.39it/s]\n",
            "               Class      Images     Targets           P           R      mAP@.5  mAP@.5:.95: 100% 4/4 [00:01<00:00,  2.07it/s]\n",
            "                 all          32         611       0.754       0.906         0.9       0.681\n",
            "\n",
            "     Epoch   gpu_mem       box       obj       cls     total   targets  img_size\n",
            "    50/149     14.4G   0.01293   0.02893  0.002392   0.04425        60      1280: 100% 500/500 [06:00<00:00,  1.39it/s]\n",
            "               Class      Images     Targets           P           R      mAP@.5  mAP@.5:.95: 100% 4/4 [00:01<00:00,  2.08it/s]\n",
            "                 all          32         611       0.764        0.92       0.907       0.673\n",
            "\n",
            "     Epoch   gpu_mem       box       obj       cls     total   targets  img_size\n",
            "    51/149     14.4G    0.0132   0.02845  0.002332   0.04398       127      1280: 100% 500/500 [06:01<00:00,  1.38it/s]\n",
            "               Class      Images     Targets           P           R      mAP@.5  mAP@.5:.95: 100% 4/4 [00:01<00:00,  2.08it/s]\n",
            "                 all          32         611       0.765       0.912       0.883       0.566\n",
            "\n",
            "     Epoch   gpu_mem       box       obj       cls     total   targets  img_size\n",
            "    52/149     14.4G   0.01308   0.02856  0.002394   0.04403        27      1280: 100% 500/500 [06:01<00:00,  1.38it/s]\n",
            "               Class      Images     Targets           P           R      mAP@.5  mAP@.5:.95: 100% 4/4 [00:01<00:00,  2.03it/s]\n",
            "                 all          32         611       0.775       0.922       0.927       0.667\n",
            "\n",
            "     Epoch   gpu_mem       box       obj       cls     total   targets  img_size\n",
            "    53/149     14.4G   0.01264   0.02838  0.002354   0.04336       254      1280: 100% 500/500 [06:01<00:00,  1.38it/s]\n",
            "               Class      Images     Targets           P           R      mAP@.5  mAP@.5:.95: 100% 4/4 [00:01<00:00,  2.09it/s]\n",
            "                 all          32         611       0.797       0.868       0.859        0.59\n",
            "\n",
            "     Epoch   gpu_mem       box       obj       cls     total   targets  img_size\n",
            "    54/149     14.4G   0.01282   0.02781  0.002319   0.04294        73      1280: 100% 500/500 [06:01<00:00,  1.38it/s]\n",
            "               Class      Images     Targets           P           R      mAP@.5  mAP@.5:.95: 100% 4/4 [00:01<00:00,  2.11it/s]\n",
            "                 all          32         611       0.777       0.901       0.892        0.68\n",
            "\n",
            "     Epoch   gpu_mem       box       obj       cls     total   targets  img_size\n",
            "    55/149     14.4G   0.01249   0.02831  0.002357   0.04315       150      1280: 100% 500/500 [06:01<00:00,  1.38it/s]\n",
            "               Class      Images     Targets           P           R      mAP@.5  mAP@.5:.95: 100% 4/4 [00:01<00:00,  2.09it/s]\n",
            "                 all          32         611       0.728       0.831       0.847       0.655\n",
            "\n",
            "     Epoch   gpu_mem       box       obj       cls     total   targets  img_size\n",
            "    56/149     14.4G   0.01242   0.02687  0.002378   0.04167       101      1280: 100% 500/500 [06:01<00:00,  1.38it/s]\n",
            "               Class      Images     Targets           P           R      mAP@.5  mAP@.5:.95: 100% 4/4 [00:01<00:00,  2.10it/s]\n",
            "                 all          32         611         0.8       0.911       0.905       0.709\n",
            "\n",
            "     Epoch   gpu_mem       box       obj       cls     total   targets  img_size\n",
            "    57/149     14.4G   0.01219   0.02754   0.00229   0.04202       173      1280: 100% 500/500 [06:01<00:00,  1.38it/s]\n",
            "               Class      Images     Targets           P           R      mAP@.5  mAP@.5:.95: 100% 4/4 [00:01<00:00,  2.04it/s]\n",
            "                 all          32         611       0.797       0.932       0.933       0.731\n",
            "\n",
            "     Epoch   gpu_mem       box       obj       cls     total   targets  img_size\n",
            "    58/149     14.4G     0.012   0.02624  0.002317   0.04056       217      1280: 100% 500/500 [06:02<00:00,  1.38it/s]\n",
            "               Class      Images     Targets           P           R      mAP@.5  mAP@.5:.95: 100% 4/4 [00:01<00:00,  2.06it/s]\n",
            "                 all          32         611       0.784       0.926       0.923       0.741\n",
            "\n",
            "     Epoch   gpu_mem       box       obj       cls     total   targets  img_size\n",
            "    59/149     14.4G   0.01207   0.02634  0.002299   0.04071       176      1280: 100% 500/500 [06:01<00:00,  1.38it/s]\n",
            "               Class      Images     Targets           P           R      mAP@.5  mAP@.5:.95: 100% 4/4 [00:01<00:00,  2.09it/s]\n",
            "                 all          32         611       0.771       0.886        0.89        0.69\n",
            "\n",
            "     Epoch   gpu_mem       box       obj       cls     total   targets  img_size\n",
            "    60/149     14.4G   0.01264   0.02785  0.002343   0.04283       268      1280: 100% 500/500 [06:02<00:00,  1.38it/s]\n",
            "               Class      Images     Targets           P           R      mAP@.5  mAP@.5:.95: 100% 4/4 [00:01<00:00,  2.09it/s]\n",
            "                 all          32         611       0.787       0.919       0.917       0.707\n",
            "\n",
            "     Epoch   gpu_mem       box       obj       cls     total   targets  img_size\n",
            "    61/149     14.4G   0.01222    0.0264  0.002203   0.04081        41      1280: 100% 500/500 [06:01<00:00,  1.38it/s]\n",
            "               Class      Images     Targets           P           R      mAP@.5  mAP@.5:.95: 100% 4/4 [00:01<00:00,  2.08it/s]\n",
            "                 all          32         611       0.795       0.908       0.897       0.669\n",
            "\n",
            "     Epoch   gpu_mem       box       obj       cls     total   targets  img_size\n",
            "    62/149     14.4G   0.01211   0.02701  0.002228   0.04135       134      1280: 100% 500/500 [06:02<00:00,  1.38it/s]\n",
            "               Class      Images     Targets           P           R      mAP@.5  mAP@.5:.95: 100% 4/4 [00:01<00:00,  2.09it/s]\n",
            "                 all          32         611       0.745       0.908       0.907       0.702\n",
            "\n",
            "     Epoch   gpu_mem       box       obj       cls     total   targets  img_size\n",
            "    63/149     14.4G     0.012   0.02696  0.002318   0.04128       145      1280: 100% 500/500 [06:01<00:00,  1.38it/s]\n",
            "               Class      Images     Targets           P           R      mAP@.5  mAP@.5:.95: 100% 4/4 [00:01<00:00,  2.08it/s]\n",
            "                 all          32         611       0.787       0.897       0.906       0.667\n",
            "\n",
            "     Epoch   gpu_mem       box       obj       cls     total   targets  img_size\n",
            "    64/149     14.4G   0.01198   0.02653  0.002282   0.04079       116      1280: 100% 500/500 [06:02<00:00,  1.38it/s]\n",
            "               Class      Images     Targets           P           R      mAP@.5  mAP@.5:.95: 100% 4/4 [00:01<00:00,  2.08it/s]\n",
            "                 all          32         611        0.74         0.9       0.898       0.673\n",
            "\n",
            "     Epoch   gpu_mem       box       obj       cls     total   targets  img_size\n",
            "    65/149     14.4G   0.01175     0.027  0.002253     0.041       109      1280: 100% 500/500 [06:02<00:00,  1.38it/s]\n",
            "               Class      Images     Targets           P           R      mAP@.5  mAP@.5:.95: 100% 4/4 [00:01<00:00,  2.08it/s]\n",
            "                 all          32         611       0.791       0.909       0.901        0.66\n",
            "\n",
            "     Epoch   gpu_mem       box       obj       cls     total   targets  img_size\n",
            "    66/149     14.4G   0.01167   0.02589  0.002249   0.03981       106      1280: 100% 500/500 [06:02<00:00,  1.38it/s]\n",
            "               Class      Images     Targets           P           R      mAP@.5  mAP@.5:.95: 100% 4/4 [00:01<00:00,  2.06it/s]\n",
            "                 all          32         611       0.822       0.911       0.911        0.66\n",
            "\n",
            "     Epoch   gpu_mem       box       obj       cls     total   targets  img_size\n",
            "    67/149     14.4G   0.01142    0.0257  0.002243   0.03937       109      1280:  85% 423/500 [05:06<00:55,  1.38it/s]\n",
            "Traceback (most recent call last):\n",
            "  File \"train.py\", line 537, in <module>\n",
            "    train(hyp, opt, device, tb_writer, wandb)\n",
            "  File \"train.py\", line 287, in train\n",
            "    pred = model(imgs)  # forward\n",
            "  File \"/usr/local/lib/python3.7/dist-packages/torch/nn/modules/module.py\", line 727, in _call_impl\n",
            "    result = self.forward(*input, **kwargs)\n",
            "  File \"/content/yolor/models/models.py\", line 543, in forward\n",
            "    return self.forward_once(x)\n",
            "  File \"/content/yolor/models/models.py\", line 604, in forward_once\n",
            "    x = module(x)\n",
            "  File \"/usr/local/lib/python3.7/dist-packages/torch/nn/modules/module.py\", line 727, in _call_impl\n",
            "    result = self.forward(*input, **kwargs)\n",
            "  File \"/usr/local/lib/python3.7/dist-packages/torch/nn/modules/container.py\", line 117, in forward\n",
            "    input = module(input)\n",
            "  File \"/usr/local/lib/python3.7/dist-packages/torch/nn/modules/module.py\", line 727, in _call_impl\n",
            "    result = self.forward(*input, **kwargs)\n",
            "  File \"/usr/local/lib/python3.7/dist-packages/torch/nn/modules/batchnorm.py\", line 136, in forward\n",
            "    self.weight, self.bias, bn_training, exponential_average_factor, self.eps)\n",
            "  File \"/usr/local/lib/python3.7/dist-packages/torch/nn/functional.py\", line 2054, in batch_norm\n",
            "    _verify_batch_size(input.size())\n",
            "KeyboardInterrupt\n",
            "\u001b[34m\u001b[1mwandb\u001b[0m: Waiting for W&B process to finish... \u001b[31m(failed 255).\u001b[0m Press Control-C to abort syncing.\n",
            "\u001b[34m\u001b[1mwandb\u001b[0m:                                                                                \n",
            "\u001b[34m\u001b[1mwandb\u001b[0m: \n",
            "\u001b[34m\u001b[1mwandb\u001b[0m: Run history:\n",
            "\u001b[34m\u001b[1mwandb\u001b[0m:      metrics/mAP_0.5 ▁▁▆▇█████████▇███▇███████████████▇██████\n",
            "\u001b[34m\u001b[1mwandb\u001b[0m: metrics/mAP_0.5:0.95 ▁▁▅▇█▇▇▇▇█▇█▇▇██▇▇▇█▇▇▇█▇▇▆▇▇▇▇▇▇▇█▇▇▇▇▇\n",
            "\u001b[34m\u001b[1mwandb\u001b[0m:    metrics/precision ▁▁▄▆▆▇▇▇██▇███████▇▇█████▇█▇█▇███▇███▇▇█\n",
            "\u001b[34m\u001b[1mwandb\u001b[0m:       metrics/recall ▁▁███████████▇██▇▇████▇██████████▇█▇████\n",
            "\u001b[34m\u001b[1mwandb\u001b[0m:       train/box_loss █▅█▅▅▄▄▃▃▃▃▃▃▂▃▃▂▃▂▂▂▂▂▂▂▂▂▂▁▂▁▁▁▁▁▁▁▁▁▁\n",
            "\u001b[34m\u001b[1mwandb\u001b[0m:       train/cls_loss █▅▄▂▂▂▂▂▂▁▁▁▁▁▁▁▁▁▁▁▁▁▁▁▁▁▁▁▁▁▁▁▁▁▁▁▁▁▁▁\n",
            "\u001b[34m\u001b[1mwandb\u001b[0m:       train/obj_loss █▅▅▃▃▃▃▂▃▂▂▂▂▂▂▂▂▂▂▂▂▂▂▂▂▂▁▁▁▁▁▁▁▁▁▁▁▁▁▁\n",
            "\u001b[34m\u001b[1mwandb\u001b[0m:         val/box_loss ▁▁▇▆▆▇▇▇▇▆▇▆▇█▆▆▇▇▆▆▇▇▇▆▇▇█▇▆▇▇▇▇▇▆▆▆▆▇▇\n",
            "\u001b[34m\u001b[1mwandb\u001b[0m:         val/cls_loss ▁▁█▅▄▃▄▃▃▃▂▃▃▄▃▃▄▃▃▃▃▃▄▃▃▃▃▃▂▃▃▃▂▄▃▃▃▄▄▃\n",
            "\u001b[34m\u001b[1mwandb\u001b[0m:         val/obj_loss ▁▁▅▅▅▅▅▅▆▅▅▅▆█▅▆▇█▆▆▆▆█▆▇▆▆▆▆▆▆▆▆█▆▇▆▇▆▇\n",
            "\u001b[34m\u001b[1mwandb\u001b[0m:                x/lr0 ▁▅█████████████▇▇▇▇▇▇▇▇▇▇▇▆▆▆▆▆▆▆▆▅▅▅▅▅▅\n",
            "\u001b[34m\u001b[1mwandb\u001b[0m:                x/lr1 ▁▅█████████████▇▇▇▇▇▇▇▇▇▇▇▆▆▆▆▆▆▆▆▅▅▅▅▅▅\n",
            "\u001b[34m\u001b[1mwandb\u001b[0m:                x/lr2 █▅▁▁▁▁▁▁▁▁▁▁▁▁▁▁▁▁▁▁▁▁▁▁▁▁▁▁▁▁▁▁▁▁▁▁▁▁▁▁\n",
            "\u001b[34m\u001b[1mwandb\u001b[0m: \n",
            "\u001b[34m\u001b[1mwandb\u001b[0m: Run summary:\n",
            "\u001b[34m\u001b[1mwandb\u001b[0m:      metrics/mAP_0.5 0.91057\n",
            "\u001b[34m\u001b[1mwandb\u001b[0m: metrics/mAP_0.5:0.95 0.65966\n",
            "\u001b[34m\u001b[1mwandb\u001b[0m:    metrics/precision 0.82231\n",
            "\u001b[34m\u001b[1mwandb\u001b[0m:       metrics/recall 0.91107\n",
            "\u001b[34m\u001b[1mwandb\u001b[0m:       train/box_loss 0.01167\n",
            "\u001b[34m\u001b[1mwandb\u001b[0m:       train/cls_loss 0.00225\n",
            "\u001b[34m\u001b[1mwandb\u001b[0m:       train/obj_loss 0.02589\n",
            "\u001b[34m\u001b[1mwandb\u001b[0m:         val/box_loss 0.02203\n",
            "\u001b[34m\u001b[1mwandb\u001b[0m:         val/cls_loss 0.0015\n",
            "\u001b[34m\u001b[1mwandb\u001b[0m:         val/obj_loss 0.03753\n",
            "\u001b[34m\u001b[1mwandb\u001b[0m:                x/lr0 0.00683\n",
            "\u001b[34m\u001b[1mwandb\u001b[0m:                x/lr1 0.00683\n",
            "\u001b[34m\u001b[1mwandb\u001b[0m:                x/lr2 0.00683\n",
            "\u001b[34m\u001b[1mwandb\u001b[0m: \n",
            "\u001b[34m\u001b[1mwandb\u001b[0m: Synced \u001b[33myolor_w6\u001b[0m: \u001b[34m\u001b[4mhttps://wandb.ai/kostyayatsok/YOLOR/runs/1zes11yb\u001b[0m\n",
            "\u001b[34m\u001b[1mwandb\u001b[0m: Synced 5 W&B file(s), 5 media file(s), 0 artifact file(s) and 0 other file(s)\n",
            "\u001b[34m\u001b[1mwandb\u001b[0m: Find logs at: \u001b[35m\u001b[1m./wandb/run-20220503_123455-1zes11yb/logs\u001b[0m\n"
          ]
        }
      ]
    },
    {
      "cell_type": "code",
      "execution_count": null,
      "metadata": {
        "colab": {
          "base_uri": "https://localhost:8080/"
        },
        "id": "S7W8fkwbVx4O",
        "outputId": "165f7a6a-ac3c-4f9b-a1f4-5e52775894ea"
      },
      "outputs": [
        {
          "output_type": "stream",
          "name": "stdout",
          "text": [
            "Writing rummy.names\n"
          ]
        }
      ],
      "source": [
        "%%writefile rummy.names\n",
        "empty\n",
        "1\n",
        "2\n",
        "3\n",
        "4\n",
        "5\n",
        "6\n",
        "7\n",
        "8\n",
        "9\n",
        "10\n",
        "11\n",
        "12\n",
        "13\n",
        "j\n"
      ]
    },
    {
      "cell_type": "code",
      "execution_count": null,
      "metadata": {
        "id": "s-jgW0chR_TL"
      },
      "outputs": [],
      "source": [
        "# !python test.py \\\n",
        "#     --data data.yaml \\\n",
        "#     --img 640 \\\n",
        "#     --batch 4 \\\n",
        "#     --conf 0.001 \\\n",
        "#     --iou 0.5 \\\n",
        "#     --cfg cfg/yolor_csp_x.cfg \\\n",
        "#     --weights runs/train/yolor_csp_x3/weights/best_ap50.pt \\\n",
        "#     --names rummy.names \\\n",
        "#     --verbose \\\n",
        "#     --save-json \\\n",
        "#     --name yolor_csp_x\n",
        "#     # --weights ../yolor.pt \\\n",
        "#     # --device 0 \\"
      ]
    },
    {
      "cell_type": "code",
      "source": [
        "from google.colab import files\n",
        "files.download(\"runs/train/yolor_p6/weights/best.pt\")"
      ],
      "metadata": {
        "colab": {
          "base_uri": "https://localhost:8080/",
          "height": 17
        },
        "id": "qM2FYDelh94b",
        "outputId": "0c5d2469-b89a-4eb8-cfb5-fb43df91fc9f"
      },
      "execution_count": null,
      "outputs": [
        {
          "output_type": "display_data",
          "data": {
            "text/plain": [
              "<IPython.core.display.Javascript object>"
            ],
            "application/javascript": [
              "\n",
              "    async function download(id, filename, size) {\n",
              "      if (!google.colab.kernel.accessAllowed) {\n",
              "        return;\n",
              "      }\n",
              "      const div = document.createElement('div');\n",
              "      const label = document.createElement('label');\n",
              "      label.textContent = `Downloading \"${filename}\": `;\n",
              "      div.appendChild(label);\n",
              "      const progress = document.createElement('progress');\n",
              "      progress.max = size;\n",
              "      div.appendChild(progress);\n",
              "      document.body.appendChild(div);\n",
              "\n",
              "      const buffers = [];\n",
              "      let downloaded = 0;\n",
              "\n",
              "      const channel = await google.colab.kernel.comms.open(id);\n",
              "      // Send a message to notify the kernel that we're ready.\n",
              "      channel.send({})\n",
              "\n",
              "      for await (const message of channel.messages) {\n",
              "        // Send a message to notify the kernel that we're ready.\n",
              "        channel.send({})\n",
              "        if (message.buffers) {\n",
              "          for (const buffer of message.buffers) {\n",
              "            buffers.push(buffer);\n",
              "            downloaded += buffer.byteLength;\n",
              "            progress.value = downloaded;\n",
              "          }\n",
              "        }\n",
              "      }\n",
              "      const blob = new Blob(buffers, {type: 'application/binary'});\n",
              "      const a = document.createElement('a');\n",
              "      a.href = window.URL.createObjectURL(blob);\n",
              "      a.download = filename;\n",
              "      div.appendChild(a);\n",
              "      a.click();\n",
              "      div.remove();\n",
              "    }\n",
              "  "
            ]
          },
          "metadata": {}
        },
        {
          "output_type": "display_data",
          "data": {
            "text/plain": [
              "<IPython.core.display.Javascript object>"
            ],
            "application/javascript": [
              "download(\"download_60b2d1f9-dca4-4781-9cfc-cdb682768754\", \"best.pt\", 298848920)"
            ]
          },
          "metadata": {}
        }
      ]
    },
    {
      "cell_type": "code",
      "source": [
        "! yes | pip3 uninstall wandb\n",
        "! rm -r wandb"
      ],
      "metadata": {
        "colab": {
          "base_uri": "https://localhost:8080/"
        },
        "id": "VlGjpjWUctq5",
        "outputId": "7297b846-4fd4-4f38-8210-3c42ba0f8da5"
      },
      "execution_count": null,
      "outputs": [
        {
          "output_type": "stream",
          "name": "stdout",
          "text": [
            "Found existing installation: wandb 0.12.15\n",
            "Uninstalling wandb-0.12.15:\n",
            "  Would remove:\n",
            "    /usr/local/bin/wandb\n",
            "    /usr/local/bin/wb\n",
            "    /usr/local/lib/python3.7/dist-packages/wandb-0.12.15.dist-info/*\n",
            "    /usr/local/lib/python3.7/dist-packages/wandb/*\n",
            "Proceed (y/n)?   Successfully uninstalled wandb-0.12.15\n"
          ]
        }
      ]
    },
    {
      "cell_type": "code",
      "source": [
        "! rm -r runs/test\n",
        "! python test.py \\\n",
        "    --data data.yaml \\\n",
        "    --img 1280 \\\n",
        "    --batch 4 \\\n",
        "    --conf 0.001 \\\n",
        "    --iou 0.5 \\\n",
        "    --cfg cfg/yolor_p6.cfg \\\n",
        "    --weights runs/train/yolor_p6/weights/best.pt \\\n",
        "    --verbose \\\n",
        "    --save-json \\\n",
        "    --name yolor_p \\\n",
        "    --names rummy.names"
      ],
      "metadata": {
        "colab": {
          "base_uri": "https://localhost:8080/"
        },
        "id": "c9dlT_uTZi-7",
        "outputId": "da2c33d4-6099-4817-afbc-f6e6db6b73c3"
      },
      "execution_count": null,
      "outputs": [
        {
          "output_type": "stream",
          "name": "stdout",
          "text": [
            "Namespace(augment=False, batch_size=4, cfg='cfg/yolor_p6.cfg', conf_thres=0.001, data='data.yaml', device='', exist_ok=False, img_size=1280, iou_thres=0.5, name='yolor_p', names='rummy.names', project='runs/test', save_conf=False, save_json=True, save_txt=False, single_cls=False, task='val', verbose=True, weights=['runs/train/yolor_p6/weights/best.pt'])\n",
            "Using torch 1.7.0 CUDA:0 (Tesla P100-PCIE-16GB, 16280MB)\n",
            "\n",
            "Model Summary: 665 layers, 37265016 parameters, 37265016 gradients, 81.564040600 GFLOPS\n",
            "Scanning labels coco-test-yolo/labels.cache3 (32 found, 0 missing, 0 empty, 0 duplicate, for 32 images): 32it [00:00, 12556.62it/s]\n",
            "               Class      Images     Targets           P           R      mAP@.5  mAP@.5:.95: 100% 8/8 [00:03<00:00,  2.11it/s]\n",
            "                 all          32         611       0.821       0.962       0.966       0.806\n",
            "                   1          32          34       0.843       0.971       0.967       0.815\n",
            "                   2          32          34       0.656       0.941       0.965       0.826\n",
            "                   3          32          58       0.926       0.966        0.99       0.821\n",
            "                   4          32          59       0.906       0.983        0.99       0.816\n",
            "                   5          32          31       0.715           1       0.981       0.826\n",
            "                   6          32          40       0.588           1       0.983       0.852\n",
            "                   7          32          38       0.885       0.947       0.949       0.804\n",
            "                   8          32          63       0.752       0.963       0.938       0.735\n",
            "                   9          32          55       0.913       0.927       0.949         0.8\n",
            "                  10          32          51       0.778        0.98        0.99       0.816\n",
            "                  11          32          44         0.9       0.955       0.964       0.778\n",
            "                  12          32          49       0.857       0.878       0.901       0.754\n",
            "                  13          32          55       0.952           1       0.985        0.83\n",
            "Speed: 48.6/3.5/52.1 ms inference/NMS/total per 1280x1280 image at batch-size 4\n",
            "\n",
            "Evaluating pycocotools mAP... saving runs/test/yolor_p/best_predictions.json...\n",
            "loading annotations into memory...\n",
            "Done (t=0.01s)\n",
            "creating index...\n",
            "index created!\n",
            "Loading and preparing results...\n",
            "DONE (t=0.07s)\n",
            "creating index...\n",
            "index created!\n",
            "ERROR: pycocotools unable to run: 'numpy.float64' object cannot be interpreted as an integer\n",
            "Results saved to runs/test/yolor_p\n"
          ]
        }
      ]
    },
    {
      "cell_type": "code",
      "source": [
        "! zip yolor_p.zip -r runs/test/yolor_p/ "
      ],
      "metadata": {
        "colab": {
          "base_uri": "https://localhost:8080/"
        },
        "id": "ZKK1KNU4Zx5q",
        "outputId": "3646733d-855b-4b21-d35f-ac4e5aeb6387"
      },
      "execution_count": null,
      "outputs": [
        {
          "output_type": "stream",
          "name": "stdout",
          "text": [
            "  adding: runs/test/yolor_p/ (stored 0%)\n"
          ]
        }
      ]
    },
    {
      "cell_type": "code",
      "execution_count": null,
      "metadata": {
        "id": "oCLSeR-NLCKf",
        "colab": {
          "base_uri": "https://localhost:8080/",
          "height": 89
        },
        "outputId": "40423208-3024-41f9-b91f-1c96ced84474"
      },
      "outputs": [
        {
          "output_type": "display_data",
          "data": {
            "text/plain": [
              "<IPython.core.display.Javascript object>"
            ],
            "application/javascript": [
              "\n",
              "    async function download(id, filename, size) {\n",
              "      if (!google.colab.kernel.accessAllowed) {\n",
              "        return;\n",
              "      }\n",
              "      const div = document.createElement('div');\n",
              "      const label = document.createElement('label');\n",
              "      label.textContent = `Downloading \"${filename}\": `;\n",
              "      div.appendChild(label);\n",
              "      const progress = document.createElement('progress');\n",
              "      progress.max = size;\n",
              "      div.appendChild(progress);\n",
              "      document.body.appendChild(div);\n",
              "\n",
              "      const buffers = [];\n",
              "      let downloaded = 0;\n",
              "\n",
              "      const channel = await google.colab.kernel.comms.open(id);\n",
              "      // Send a message to notify the kernel that we're ready.\n",
              "      channel.send({})\n",
              "\n",
              "      for await (const message of channel.messages) {\n",
              "        // Send a message to notify the kernel that we're ready.\n",
              "        channel.send({})\n",
              "        if (message.buffers) {\n",
              "          for (const buffer of message.buffers) {\n",
              "            buffers.push(buffer);\n",
              "            downloaded += buffer.byteLength;\n",
              "            progress.value = downloaded;\n",
              "          }\n",
              "        }\n",
              "      }\n",
              "      const blob = new Blob(buffers, {type: 'application/binary'});\n",
              "      const a = document.createElement('a');\n",
              "      a.href = window.URL.createObjectURL(blob);\n",
              "      a.download = filename;\n",
              "      div.appendChild(a);\n",
              "      a.click();\n",
              "      div.remove();\n",
              "    }\n",
              "  "
            ]
          },
          "metadata": {}
        },
        {
          "output_type": "display_data",
          "data": {
            "text/plain": [
              "<IPython.core.display.Javascript object>"
            ],
            "application/javascript": [
              "download(\"download_7cfaf5a2-eaac-4360-8ff5-2e5b9b730cc6\", \"yolor_p.zip\", 186)"
            ]
          },
          "metadata": {}
        }
      ],
      "source": [
        "from google.colab import files\n",
        "files.download(\"yolor_p.zip\")"
      ]
    },
    {
      "cell_type": "code",
      "execution_count": null,
      "metadata": {
        "colab": {
          "base_uri": "https://localhost:8080/"
        },
        "id": "HiQbuRvQT17q",
        "outputId": "54941c1e-42ec-42ac-d531-339ed4416f3a"
      },
      "outputs": [
        {
          "name": "stdout",
          "output_type": "stream",
          "text": [
            "Namespace(agnostic_nms=False, augment=False, cfg='cfg/yolor_csp_x.cfg', classes=None, conf_thres=0.04, device='', img_size=640, iou_thres=0.5, names='data/coco.names', output='inference/output', save_txt=False, source='coco-test-yolo/images/0011.jpg', update=False, view_img=False, weights=['yolor_csp_x.pt'])\n",
            "image 1/1 /content/yolor/coco-test-yolo/images/0011.jpg: 640x640 3 persons, 2 cups, 3 spoons, 1 bowls, 1 chairs, 1 couchs, 2 beds, 1 dining tables, 1 laptops, 2 mouses, 7 remotes, 1 keyboards, 3 cell phones, Done. (0.049s)\n",
            "Results saved to inference/output\n",
            "Done. (0.127s)\n"
          ]
        }
      ],
      "source": [
        "!python detect.py \\\n",
        "    --source coco-test-yolo/images/0011.jpg \\\n",
        "    --img 640 \\\n",
        "    --conf 0.04 \\\n",
        "    --cfg cfg/yolor_csp_x.cfg \\\n",
        "    --weights yolor_csp_x.pt\n",
        "    # --source inference/images/horses.jpg \\\n",
        "    # --names rummy.names\n",
        "    # --source /content/yolor/rummy-data-yolo/images/000000.jpg \\"
      ]
    }
  ],
  "metadata": {
    "accelerator": "GPU",
    "colab": {
      "collapsed_sections": [],
      "name": "RummyYOLOR.ipynb",
      "provenance": [],
      "authorship_tag": "ABX9TyNV8QC+YCJeTMwO34jambQX"
    },
    "kernelspec": {
      "display_name": "Python 3",
      "name": "python3"
    },
    "language_info": {
      "name": "python"
    }
  },
  "nbformat": 4,
  "nbformat_minor": 0
}